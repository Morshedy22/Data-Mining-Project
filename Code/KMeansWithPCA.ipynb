{
 "cells": [
  {
   "cell_type": "code",
   "execution_count": 2,
   "metadata": {},
   "outputs": [],
   "source": [
    "import pandas as pd\n",
    "import matplotlib.pyplot as plt\n",
    "import numpy as np\n"
   ]
  },
  {
   "cell_type": "code",
   "execution_count": 3,
   "metadata": {},
   "outputs": [],
   "source": [
    "data = pd.read_csv(\"../Data/Cleaned_Data.csv\")"
   ]
  },
  {
   "cell_type": "code",
   "execution_count": 4,
   "metadata": {},
   "outputs": [],
   "source": [
    "from sklearn.preprocessing import StandardScaler\n",
    "scaler = StandardScaler ()\n",
    "scaled_features = scaler.fit_transform(data)"
   ]
  },
  {
   "cell_type": "markdown",
   "metadata": {},
   "source": [
    "##### Applying Principal Component Analysis (PCA)"
   ]
  },
  {
   "cell_type": "code",
   "execution_count": 5,
   "metadata": {},
   "outputs": [
    {
     "data": {
      "text/plain": [
       "array([[-1.68652011e+00, -1.08897397e+00,  4.59313647e-01, ...,\n",
       "         1.45677308e-01,  4.81202320e-02, -1.61715267e-04],\n",
       "       [-1.15033350e+00,  2.48779039e+00,  6.22041926e-01, ...,\n",
       "        -5.42880974e-01, -8.41231518e-02,  5.99956149e-06],\n",
       "       [ 9.61780897e-01, -3.93431732e-01,  3.95773231e-02, ...,\n",
       "         2.19957849e-01,  5.11706921e-01,  2.15339363e-05],\n",
       "       ...,\n",
       "       [-9.27314679e-01, -1.82064530e+00, -3.83915640e-01, ...,\n",
       "         4.63255655e-01,  1.57909541e-01, -1.65080562e-04],\n",
       "       [-2.34342474e+00, -6.78618662e-01,  1.03355895e+00, ...,\n",
       "         2.73975085e-01, -1.92003894e-01, -8.28524271e-05],\n",
       "       [-5.73037773e-01, -4.21659120e-01,  1.10376367e+00, ...,\n",
       "        -4.08792509e-01,  3.57802974e-01, -7.98824941e-05]])"
      ]
     },
     "execution_count": 5,
     "metadata": {},
     "output_type": "execute_result"
    }
   ],
   "source": [
    "from sklearn.decomposition import PCA\n",
    "X = scaled_features\n",
    "pca = PCA ()\n",
    "pca.fit_transform (X) "
   ]
  },
  {
   "cell_type": "code",
   "execution_count": 6,
   "metadata": {},
   "outputs": [
    {
     "data": {
      "text/plain": [
       "array([2.73469621e-01, 2.03016264e-01, 8.86653764e-02, 7.50886210e-02,\n",
       "       6.21575061e-02, 5.73047055e-02, 4.89631816e-02, 4.28095131e-02,\n",
       "       3.73519990e-02, 3.06991871e-02, 2.36544887e-02, 1.77434349e-02,\n",
       "       1.42852732e-02, 1.19693172e-02, 1.01358861e-02, 2.68493958e-03,\n",
       "       6.85996553e-07])"
      ]
     },
     "execution_count": 6,
     "metadata": {},
     "output_type": "execute_result"
    }
   ],
   "source": [
    "pca.explained_variance_ratio_"
   ]
  },
  {
   "cell_type": "code",
   "execution_count": 7,
   "metadata": {},
   "outputs": [
    {
     "data": {
      "text/plain": [
       "(17,)"
      ]
     },
     "execution_count": 7,
     "metadata": {},
     "output_type": "execute_result"
    }
   ],
   "source": [
    "pca.explained_variance_ratio_.shape"
   ]
  },
  {
   "cell_type": "markdown",
   "metadata": {},
   "source": []
  },
  {
   "cell_type": "code",
   "execution_count": 8,
   "metadata": {},
   "outputs": [
    {
     "data": {
      "text/plain": [
       "Text(0, 0.5, 'Percentage of Explained Variance Ratio')"
      ]
     },
     "execution_count": 8,
     "metadata": {},
     "output_type": "execute_result"
    },
    {
     "data": {
      "image/png": "[encoded data removed]",
      "text/plain": [
       "<Figure size 1000x400 with 1 Axes>"
      ]
     },
     "metadata": {
      "needs_background": "light"
     },
     "output_type": "display_data"
    }
   ],
   "source": [
    "from matplotlib import pyplot as plt\n",
    "pca.explained_variance_\n",
    "pca.explained_variance_ratio_\n",
    "\n",
    "plt.figure (figsize = (10 , 4), dpi = 100) \n",
    "\n",
    "plt.bar(range (17),(pca.explained_variance_ratio_)*100,tick_label=[\"PC\" + str(x) for x in range(1,18)])\n",
    "\n",
    "plt.xticks (fontsize = 11)\n",
    "plt.yticks (range (0 , 30 , 2) , fontsize=7)\n",
    "\n",
    "plt.xlabel('Principal Components' , size = 11)\n",
    "plt.ylabel('Percentage of Explained Variance Ratio', size = 11)"
   ]
  },
  {
   "cell_type": "markdown",
   "metadata": {},
   "source": [
    "**PCA with 2 dimensions**"
   ]
  },
  {
   "cell_type": "code",
   "execution_count": 9,
   "metadata": {},
   "outputs": [
    {
     "data": {
      "text/plain": [
       "array([[-1.68651854, -1.08897315],\n",
       "       [-1.15032831,  2.48779475],\n",
       "       [ 0.96178471, -0.3934478 ],\n",
       "       ...,\n",
       "       [-0.92731578, -1.82064359],\n",
       "       [-2.34342824, -0.6786139 ],\n",
       "       [-0.57304159, -0.42166297]])"
      ]
     },
     "execution_count": 9,
     "metadata": {},
     "output_type": "execute_result"
    }
   ],
   "source": [
    "from sklearn.decomposition import PCA\n",
    "X = scaled_features\n",
    "pca_2 = PCA (n_components = 2)\n",
    "pca_2.fit_transform (X)"
   ]
  },
  {
   "cell_type": "code",
   "execution_count": 10,
   "metadata": {},
   "outputs": [
    {
     "data": {
      "text/plain": [
       "<BarContainer object of 2 artists>"
      ]
     },
     "execution_count": 10,
     "metadata": {},
     "output_type": "execute_result"
    },
    {
     "data": {
      "image/png": "[encoded data removed]",
      "text/plain": [
       "<Figure size 432x288 with 1 Axes>"
      ]
     },
     "metadata": {
      "needs_background": "light"
     },
     "output_type": "display_data"
    }
   ],
   "source": [
    "from matplotlib import pyplot as plt\n",
    "pca_2.explained_variance_\n",
    "pca_2.explained_variance_ratio_\n",
    "plt.bar (range (2) , (pca_2.explained_variance_ratio_)*100 , tick_label = [\"PC\" + str(x) for x in range(1 , 3)])"
   ]
  },
  {
   "cell_type": "code",
   "execution_count": 11,
   "metadata": {},
   "outputs": [
    {
     "data": {
      "text/plain": [
       "<matplotlib.collections.PathCollection at 0x7943e5a14580>"
      ]
     },
     "execution_count": 11,
     "metadata": {},
     "output_type": "execute_result"
    },
    {
     "data": {
      "image/png": "[encoded data removed]",
      "text/plain": [
       "<Figure size 432x288 with 1 Axes>"
      ]
     },
     "metadata": {
      "needs_background": "light"
     },
     "output_type": "display_data"
    }
   ],
   "source": [
    "from matplotlib import pyplot as plt\n",
    "pca_2.explained_variance_\n",
    "pca_2.explained_variance_ratio_\n",
    "Z = pca_2.transform (X)\n",
    "Z.shape \n",
    "plt.scatter (Z [: , 0] , Z [: , 1])"
   ]
  },
  {
   "cell_type": "code",
   "execution_count": 12,
   "metadata": {},
   "outputs": [],
   "source": [
    "pca_2 = pca_2.fit_transform (X)"
   ]
  },
  {
   "cell_type": "code",
   "execution_count": 13,
   "metadata": {},
   "outputs": [
    {
     "data": {
      "text/plain": [
       "(8876, 2)"
      ]
     },
     "execution_count": 13,
     "metadata": {},
     "output_type": "execute_result"
    }
   ],
   "source": [
    "pca_2.shape"
   ]
  },
  {
   "cell_type": "code",
   "execution_count": 14,
   "metadata": {},
   "outputs": [
    {
     "data": {
      "text/html": [
       "<div>\n",
       "<style scoped>\n",
       "    .dataframe tbody tr th:only-of-type {\n",
       "        vertical-align: middle;\n",
       "    }\n",
       "\n",
       "    .dataframe tbody tr th {\n",
       "        vertical-align: top;\n",
       "    }\n",
       "\n",
       "    .dataframe thead th {\n",
       "        text-align: right;\n",
       "    }\n",
       "</style>\n",
       "<table border=\"1\" class=\"dataframe\">\n",
       "  <thead>\n",
       "    <tr style=\"text-align: right;\">\n",
       "      <th></th>\n",
       "      <th>PC1</th>\n",
       "      <th>PC2</th>\n",
       "    </tr>\n",
       "  </thead>\n",
       "  <tbody>\n",
       "    <tr>\n",
       "      <th>0</th>\n",
       "      <td>-1.686521</td>\n",
       "      <td>-1.088967</td>\n",
       "    </tr>\n",
       "    <tr>\n",
       "      <th>1</th>\n",
       "      <td>-1.150345</td>\n",
       "      <td>2.487871</td>\n",
       "    </tr>\n",
       "    <tr>\n",
       "      <th>2</th>\n",
       "      <td>0.961799</td>\n",
       "      <td>-0.393526</td>\n",
       "    </tr>\n",
       "    <tr>\n",
       "      <th>3</th>\n",
       "      <td>-0.913553</td>\n",
       "      <td>-0.036990</td>\n",
       "    </tr>\n",
       "    <tr>\n",
       "      <th>4</th>\n",
       "      <td>-1.600297</td>\n",
       "      <td>-0.699554</td>\n",
       "    </tr>\n",
       "    <tr>\n",
       "      <th>...</th>\n",
       "      <td>...</td>\n",
       "      <td>...</td>\n",
       "    </tr>\n",
       "    <tr>\n",
       "      <th>8871</th>\n",
       "      <td>-1.128783</td>\n",
       "      <td>-0.870742</td>\n",
       "    </tr>\n",
       "    <tr>\n",
       "      <th>8872</th>\n",
       "      <td>-0.357142</td>\n",
       "      <td>-2.022958</td>\n",
       "    </tr>\n",
       "    <tr>\n",
       "      <th>8873</th>\n",
       "      <td>-0.927310</td>\n",
       "      <td>-1.820674</td>\n",
       "    </tr>\n",
       "    <tr>\n",
       "      <th>8874</th>\n",
       "      <td>-2.343430</td>\n",
       "      <td>-0.678601</td>\n",
       "    </tr>\n",
       "    <tr>\n",
       "      <th>8875</th>\n",
       "      <td>-0.573035</td>\n",
       "      <td>-0.421682</td>\n",
       "    </tr>\n",
       "  </tbody>\n",
       "</table>\n",
       "<p>8876 rows × 2 columns</p>\n",
       "</div>"
      ],
      "text/plain": [
       "           PC1       PC2\n",
       "0    -1.686521 -1.088967\n",
       "1    -1.150345  2.487871\n",
       "2     0.961799 -0.393526\n",
       "3    -0.913553 -0.036990\n",
       "4    -1.600297 -0.699554\n",
       "...        ...       ...\n",
       "8871 -1.128783 -0.870742\n",
       "8872 -0.357142 -2.022958\n",
       "8873 -0.927310 -1.820674\n",
       "8874 -2.343430 -0.678601\n",
       "8875 -0.573035 -0.421682\n",
       "\n",
       "[8876 rows x 2 columns]"
      ]
     },
     "execution_count": 14,
     "metadata": {},
     "output_type": "execute_result"
    }
   ],
   "source": [
    "pca_2_df = pd.DataFrame(pca_2) \n",
    "pca_2_df.columns = [\"PC1\" , \"PC2\"]\n",
    "pca_2_df"
   ]
  },
  {
   "cell_type": "code",
   "execution_count": 15,
   "metadata": {},
   "outputs": [
    {
     "data": {
      "image/png": "[encoded data removed]",
      "text/plain": [
       "<Figure size 432x288 with 1 Axes>"
      ]
     },
     "metadata": {
      "needs_background": "light"
     },
     "output_type": "display_data"
    }
   ],
   "source": [
    "from sklearn.cluster import KMeans\n",
    "\n",
    "plt.scatter (pca_2_df [\"PC1\"] , pca_2_df [\"PC2\"],\n",
    "            c = KMeans(n_clusters = 3).fit_predict (pca_2_df) , cmap = None) \n",
    "plt.show ()"
   ]
  },
  {
   "cell_type": "code",
   "execution_count": 16,
   "metadata": {},
   "outputs": [
    {
     "data": {
      "text/plain": [
       "<AxesSubplot:xlabel='PC1', ylabel='PC2'>"
      ]
     },
     "execution_count": 16,
     "metadata": {},
     "output_type": "execute_result"
    },
    {
     "data": {
      "image/png": "[encoded data removed]",
      "text/plain": [
       "<Figure size 432x288 with 1 Axes>"
      ]
     },
     "metadata": {
      "needs_background": "light"
     },
     "output_type": "display_data"
    }
   ],
   "source": [
    "import seaborn as sns\n",
    "sns.scatterplot (x=\"PC1\" , y=\"PC2\",\n",
    "            c = KMeans (n_clusters = 3).fit_predict (pca_2_df), cmap = None, data=pca_2_df) "
   ]
  },
  {
   "cell_type": "markdown",
   "metadata": {},
   "source": [
    "**PCA with 3 dimensions**"
   ]
  },
  {
   "cell_type": "code",
   "execution_count": 17,
   "metadata": {},
   "outputs": [],
   "source": [
    "pca_3 = PCA (n_components = 3).fit (X)\n",
    "\n",
    "\n",
    "pca_3 = pca_3.fit_transform (X)"
   ]
  },
  {
   "cell_type": "code",
   "execution_count": 18,
   "metadata": {},
   "outputs": [
    {
     "data": {
      "text/html": [
       "<div>\n",
       "<style scoped>\n",
       "    .dataframe tbody tr th:only-of-type {\n",
       "        vertical-align: middle;\n",
       "    }\n",
       "\n",
       "    .dataframe tbody tr th {\n",
       "        vertical-align: top;\n",
       "    }\n",
       "\n",
       "    .dataframe thead th {\n",
       "        text-align: right;\n",
       "    }\n",
       "</style>\n",
       "<table border=\"1\" class=\"dataframe\">\n",
       "  <thead>\n",
       "    <tr style=\"text-align: right;\">\n",
       "      <th></th>\n",
       "      <th>PC1</th>\n",
       "      <th>PC2</th>\n",
       "      <th>PC3</th>\n",
       "    </tr>\n",
       "  </thead>\n",
       "  <tbody>\n",
       "    <tr>\n",
       "      <th>0</th>\n",
       "      <td>-1.686519</td>\n",
       "      <td>-1.088973</td>\n",
       "      <td>0.459371</td>\n",
       "    </tr>\n",
       "    <tr>\n",
       "      <th>1</th>\n",
       "      <td>-1.150333</td>\n",
       "      <td>2.487791</td>\n",
       "      <td>0.622079</td>\n",
       "    </tr>\n",
       "    <tr>\n",
       "      <th>2</th>\n",
       "      <td>0.961782</td>\n",
       "      <td>-0.393429</td>\n",
       "      <td>0.039673</td>\n",
       "    </tr>\n",
       "    <tr>\n",
       "      <th>3</th>\n",
       "      <td>-0.913553</td>\n",
       "      <td>-0.036993</td>\n",
       "      <td>1.534006</td>\n",
       "    </tr>\n",
       "    <tr>\n",
       "      <th>4</th>\n",
       "      <td>-1.600294</td>\n",
       "      <td>-0.699564</td>\n",
       "      <td>0.295308</td>\n",
       "    </tr>\n",
       "  </tbody>\n",
       "</table>\n",
       "</div>"
      ],
      "text/plain": [
       "        PC1       PC2       PC3\n",
       "0 -1.686519 -1.088973  0.459371\n",
       "1 -1.150333  2.487791  0.622079\n",
       "2  0.961782 -0.393429  0.039673\n",
       "3 -0.913553 -0.036993  1.534006\n",
       "4 -1.600294 -0.699564  0.295308"
      ]
     },
     "execution_count": 18,
     "metadata": {},
     "output_type": "execute_result"
    }
   ],
   "source": [
    "pca_3_df = pd.DataFrame (pca_3) \n",
    "pca_3_df.columns = [\"PC1\" , \"PC2\" , \"PC3\"]\n",
    "pca_3_df.head()"
   ]
  },
  {
   "cell_type": "code",
   "execution_count": 21,
   "metadata": {},
   "outputs": [
    {
     "ename": "ValueError",
     "evalue": "Mime type rendering requires nbformat>=4.2.0 but it is not installed",
     "output_type": "error",
     "traceback": [
      "\u001b[0;31m---------------------------------------------------------------------------\u001b[0m",
      "\u001b[0;31mValueError\u001b[0m                                Traceback (most recent call last)",
      "\u001b[0;32m/tmp/ipykernel_128463/176374496.py\u001b[0m in \u001b[0;36m<module>\u001b[0;34m\u001b[0m\n\u001b[1;32m      3\u001b[0m fig = px.scatter_3d (pca_3_df, x='PC1' , y = 'PC2', z = 'PC3',\n\u001b[1;32m      4\u001b[0m                     color = KMeans (n_clusters = 3).fit_predict (pca_3_df)) \n\u001b[0;32m----> 5\u001b[0;31m \u001b[0mfig\u001b[0m\u001b[0;34m.\u001b[0m\u001b[0mshow\u001b[0m\u001b[0;34m(\u001b[0m\u001b[0;34m)\u001b[0m\u001b[0;34m\u001b[0m\u001b[0;34m\u001b[0m\u001b[0m\n\u001b[0m",
      "\u001b[0;32m~/.local/lib/python3.10/site-packages/plotly/basedatatypes.py\u001b[0m in \u001b[0;36mshow\u001b[0;34m(self, *args, **kwargs)\u001b[0m\n\u001b[1;32m   3408\u001b[0m         \u001b[0;32mimport\u001b[0m \u001b[0mplotly\u001b[0m\u001b[0;34m.\u001b[0m\u001b[0mio\u001b[0m \u001b[0;32mas\u001b[0m \u001b[0mpio\u001b[0m\u001b[0;34m\u001b[0m\u001b[0;34m\u001b[0m\u001b[0m\n\u001b[1;32m   3409\u001b[0m \u001b[0;34m\u001b[0m\u001b[0m\n\u001b[0;32m-> 3410\u001b[0;31m         \u001b[0;32mreturn\u001b[0m \u001b[0mpio\u001b[0m\u001b[0;34m.\u001b[0m\u001b[0mshow\u001b[0m\u001b[0;34m(\u001b[0m\u001b[0mself\u001b[0m\u001b[0;34m,\u001b[0m \u001b[0;34m*\u001b[0m\u001b[0margs\u001b[0m\u001b[0;34m,\u001b[0m \u001b[0;34m**\u001b[0m\u001b[0mkwargs\u001b[0m\u001b[0;34m)\u001b[0m\u001b[0;34m\u001b[0m\u001b[0;34m\u001b[0m\u001b[0m\n\u001b[0m\u001b[1;32m   3411\u001b[0m \u001b[0;34m\u001b[0m\u001b[0m\n\u001b[1;32m   3412\u001b[0m     \u001b[0;32mdef\u001b[0m \u001b[0mto_json\u001b[0m\u001b[0;34m(\u001b[0m\u001b[0mself\u001b[0m\u001b[0;34m,\u001b[0m \u001b[0;34m*\u001b[0m\u001b[0margs\u001b[0m\u001b[0;34m,\u001b[0m \u001b[0;34m**\u001b[0m\u001b[0mkwargs\u001b[0m\u001b[0;34m)\u001b[0m\u001b[0;34m:\u001b[0m\u001b[0;34m\u001b[0m\u001b[0;34m\u001b[0m\u001b[0m\n",
      "\u001b[0;32m~/.local/lib/python3.10/site-packages/plotly/io/_renderers.py\u001b[0m in \u001b[0;36mshow\u001b[0;34m(fig, renderer, validate, **kwargs)\u001b[0m\n\u001b[1;32m    392\u001b[0m \u001b[0;34m\u001b[0m\u001b[0m\n\u001b[1;32m    393\u001b[0m         \u001b[0;32mif\u001b[0m \u001b[0;32mnot\u001b[0m \u001b[0mnbformat\u001b[0m \u001b[0;32mor\u001b[0m \u001b[0mVersion\u001b[0m\u001b[0;34m(\u001b[0m\u001b[0mnbformat\u001b[0m\u001b[0;34m.\u001b[0m\u001b[0m__version__\u001b[0m\u001b[0;34m)\u001b[0m \u001b[0;34m<\u001b[0m \u001b[0mVersion\u001b[0m\u001b[0;34m(\u001b[0m\u001b[0;34m\"4.2.0\"\u001b[0m\u001b[0;34m)\u001b[0m\u001b[0;34m:\u001b[0m\u001b[0;34m\u001b[0m\u001b[0;34m\u001b[0m\u001b[0m\n\u001b[0;32m--> 394\u001b[0;31m             raise ValueError(\n\u001b[0m\u001b[1;32m    395\u001b[0m                 \u001b[0;34m\"Mime type rendering requires nbformat>=4.2.0 but it is not installed\"\u001b[0m\u001b[0;34m\u001b[0m\u001b[0;34m\u001b[0m\u001b[0m\n\u001b[1;32m    396\u001b[0m             )\n",
      "\u001b[0;31mValueError\u001b[0m: Mime type rendering requires nbformat>=4.2.0 but it is not installed"
     ]
    }
   ],
   "source": [
    "import plotly.express as px\n",
    "\n",
    "fig = px.scatter_3d (pca_3_df, x='PC1' , y = 'PC2', z = 'PC3',\n",
    "                    color = KMeans (n_clusters = 3).fit_predict (pca_3_df)) \n",
    "fig.show()"
   ]
  },
  {
   "cell_type": "markdown",
   "metadata": {},
   "source": [
    "**Finding the number of components for PCA**"
   ]
  },
  {
   "cell_type": "code",
   "execution_count": 22,
   "metadata": {},
   "outputs": [
    {
     "data": {
      "text/plain": [
       "Text(9, 0.7, 'number of components: 8')"
      ]
     },
     "execution_count": 22,
     "metadata": {},
     "output_type": "execute_result"
    },
    {
     "data": {
      "image/png": "[encoded data removed]",
      "text/plain": [
       "<Figure size 600x450 with 1 Axes>"
      ]
     },
     "metadata": {
      "needs_background": "light"
     },
     "output_type": "display_data"
    }
   ],
   "source": [
    "fig = plt.figure (figsize = (4 , 3) , dpi = 150)\n",
    "\n",
    "plt.plot (np.cumsum (pca.explained_variance_ratio_) , color = \"blue\")\n",
    "plt.vlines (x = 8 , ymax = 1 , ymin = 0 , colors = \"red\", linestyles = '--')\n",
    "plt.hlines (y = 0.9 , xmax = 17 , xmin = 0 , colors = \"green\" , linestyles = \":\")\n",
    "\n",
    "plt.xlabel ('Number of PCA components' , fontsize = 10)\n",
    "plt.ylabel ('Cumulative Explained Variance' , fontsize = 10)\n",
    "\n",
    "plt.grid (True)\n",
    "plt.annotate ('number of components: 8',\n",
    "             xy = (8 , 0.88),\n",
    "             xytext = (9 , 0.7),\n",
    "             arrowprops = dict (arrowstyle = '->' , connectionstyle = 'arc3' , color = 'red', lw = 3))"
   ]
  },
  {
   "cell_type": "markdown",
   "metadata": {},
   "source": [
    "**PCA with 8 dimensions**"
   ]
  },
  {
   "cell_type": "code",
   "execution_count": 23,
   "metadata": {},
   "outputs": [],
   "source": [
    "pca = PCA (n_components = 8)\n",
    "pca.fit (X)\n",
    "pca_transform = pca.transform (X)\n",
    "selected_pca = pca_transform [:,:8]"
   ]
  },
  {
   "cell_type": "code",
   "execution_count": 24,
   "metadata": {},
   "outputs": [],
   "source": [
    "pca_8 = PCA (n_components = 8).fit (X)\n",
    "\n",
    "pca_8 = pca_8.fit_transform (X)"
   ]
  },
  {
   "cell_type": "code",
   "execution_count": 25,
   "metadata": {},
   "outputs": [
    {
     "data": {
      "text/html": [
       "<div>\n",
       "<style scoped>\n",
       "    .dataframe tbody tr th:only-of-type {\n",
       "        vertical-align: middle;\n",
       "    }\n",
       "\n",
       "    .dataframe tbody tr th {\n",
       "        vertical-align: top;\n",
       "    }\n",
       "\n",
       "    .dataframe thead th {\n",
       "        text-align: right;\n",
       "    }\n",
       "</style>\n",
       "<table border=\"1\" class=\"dataframe\">\n",
       "  <thead>\n",
       "    <tr style=\"text-align: right;\">\n",
       "      <th></th>\n",
       "      <th>PC1</th>\n",
       "      <th>PC2</th>\n",
       "      <th>PC3</th>\n",
       "      <th>PC4</th>\n",
       "      <th>PC5</th>\n",
       "      <th>PC6</th>\n",
       "      <th>PC7</th>\n",
       "      <th>PC8</th>\n",
       "    </tr>\n",
       "  </thead>\n",
       "  <tbody>\n",
       "    <tr>\n",
       "      <th>0</th>\n",
       "      <td>-1.686520</td>\n",
       "      <td>-1.088974</td>\n",
       "      <td>0.459314</td>\n",
       "      <td>0.697222</td>\n",
       "      <td>0.064202</td>\n",
       "      <td>0.082937</td>\n",
       "      <td>0.822029</td>\n",
       "      <td>-0.057782</td>\n",
       "    </tr>\n",
       "    <tr>\n",
       "      <th>1</th>\n",
       "      <td>-1.150334</td>\n",
       "      <td>2.487790</td>\n",
       "      <td>0.622042</td>\n",
       "      <td>-0.097306</td>\n",
       "      <td>0.713320</td>\n",
       "      <td>-1.065487</td>\n",
       "      <td>-0.344879</td>\n",
       "      <td>0.126617</td>\n",
       "    </tr>\n",
       "    <tr>\n",
       "      <th>2</th>\n",
       "      <td>0.961781</td>\n",
       "      <td>-0.393432</td>\n",
       "      <td>0.039577</td>\n",
       "      <td>1.276283</td>\n",
       "      <td>-2.107230</td>\n",
       "      <td>-0.412936</td>\n",
       "      <td>-1.592978</td>\n",
       "      <td>-0.094950</td>\n",
       "    </tr>\n",
       "    <tr>\n",
       "      <th>3</th>\n",
       "      <td>-0.913554</td>\n",
       "      <td>-0.036995</td>\n",
       "      <td>1.533938</td>\n",
       "      <td>1.058203</td>\n",
       "      <td>0.214211</td>\n",
       "      <td>-0.196015</td>\n",
       "      <td>-0.224845</td>\n",
       "      <td>-0.775408</td>\n",
       "    </tr>\n",
       "    <tr>\n",
       "      <th>4</th>\n",
       "      <td>-1.600294</td>\n",
       "      <td>-0.699565</td>\n",
       "      <td>0.295257</td>\n",
       "      <td>1.045982</td>\n",
       "      <td>-0.426078</td>\n",
       "      <td>0.077209</td>\n",
       "      <td>0.706174</td>\n",
       "      <td>0.184979</td>\n",
       "    </tr>\n",
       "  </tbody>\n",
       "</table>\n",
       "</div>"
      ],
      "text/plain": [
       "        PC1       PC2       PC3       PC4       PC5       PC6       PC7  \\\n",
       "0 -1.686520 -1.088974  0.459314  0.697222  0.064202  0.082937  0.822029   \n",
       "1 -1.150334  2.487790  0.622042 -0.097306  0.713320 -1.065487 -0.344879   \n",
       "2  0.961781 -0.393432  0.039577  1.276283 -2.107230 -0.412936 -1.592978   \n",
       "3 -0.913554 -0.036995  1.533938  1.058203  0.214211 -0.196015 -0.224845   \n",
       "4 -1.600294 -0.699565  0.295257  1.045982 -0.426078  0.077209  0.706174   \n",
       "\n",
       "        PC8  \n",
       "0 -0.057782  \n",
       "1  0.126617  \n",
       "2 -0.094950  \n",
       "3 -0.775408  \n",
       "4  0.184979  "
      ]
     },
     "execution_count": 25,
     "metadata": {},
     "output_type": "execute_result"
    }
   ],
   "source": [
    "pca_8_df = pd.DataFrame (pca_8) \n",
    "pca_8_df.columns = [\"PC1\" , \"PC2\" , \"PC3\", \"PC4\", \"PC5\", \"PC6\" , \"PC7\" , \"PC8\"]\n",
    "pca_8_df.head()"
   ]
  },
  {
   "cell_type": "code",
   "execution_count": 26,
   "metadata": {},
   "outputs": [
    {
     "data": {
      "text/plain": [
       "(8876, 17)"
      ]
     },
     "execution_count": 26,
     "metadata": {},
     "output_type": "execute_result"
    }
   ],
   "source": [
    "data.shape"
   ]
  },
  {
   "cell_type": "code",
   "execution_count": 27,
   "metadata": {},
   "outputs": [
    {
     "data": {
      "text/plain": [
       "(8876, 8)"
      ]
     },
     "execution_count": 27,
     "metadata": {},
     "output_type": "execute_result"
    }
   ],
   "source": [
    "pca_8_df.shape"
   ]
  },
  {
   "cell_type": "code",
   "execution_count": 28,
   "metadata": {},
   "outputs": [
    {
     "data": {
      "text/html": [
       "<div>\n",
       "<style scoped>\n",
       "    .dataframe tbody tr th:only-of-type {\n",
       "        vertical-align: middle;\n",
       "    }\n",
       "\n",
       "    .dataframe tbody tr th {\n",
       "        vertical-align: top;\n",
       "    }\n",
       "\n",
       "    .dataframe thead th {\n",
       "        text-align: right;\n",
       "    }\n",
       "</style>\n",
       "<table border=\"1\" class=\"dataframe\">\n",
       "  <thead>\n",
       "    <tr style=\"text-align: right;\">\n",
       "      <th></th>\n",
       "      <th>0</th>\n",
       "      <th>1</th>\n",
       "      <th>2</th>\n",
       "      <th>3</th>\n",
       "      <th>4</th>\n",
       "      <th>5</th>\n",
       "      <th>6</th>\n",
       "      <th>7</th>\n",
       "      <th>8</th>\n",
       "      <th>9</th>\n",
       "      <th>10</th>\n",
       "      <th>11</th>\n",
       "      <th>12</th>\n",
       "      <th>13</th>\n",
       "      <th>14</th>\n",
       "      <th>15</th>\n",
       "      <th>16</th>\n",
       "    </tr>\n",
       "  </thead>\n",
       "  <tbody>\n",
       "    <tr>\n",
       "      <th>0</th>\n",
       "      <td>-0.736905</td>\n",
       "      <td>-0.287766</td>\n",
       "      <td>-0.426040</td>\n",
       "      <td>-0.357926</td>\n",
       "      <td>-0.349910</td>\n",
       "      <td>-0.468992</td>\n",
       "      <td>-0.806206</td>\n",
       "      <td>-0.681576</td>\n",
       "      <td>-0.705852</td>\n",
       "      <td>-0.678664</td>\n",
       "      <td>-0.478306</td>\n",
       "      <td>-0.512413</td>\n",
       "      <td>-0.961640</td>\n",
       "      <td>-0.531938</td>\n",
       "      <td>-0.299201</td>\n",
       "      <td>-0.528346</td>\n",
       "      <td>0.359995</td>\n",
       "    </tr>\n",
       "    <tr>\n",
       "      <th>1</th>\n",
       "      <td>0.779306</td>\n",
       "      <td>0.113037</td>\n",
       "      <td>-0.470533</td>\n",
       "      <td>-0.357926</td>\n",
       "      <td>-0.455019</td>\n",
       "      <td>2.593303</td>\n",
       "      <td>-1.221417</td>\n",
       "      <td>-0.681576</td>\n",
       "      <td>-0.915619</td>\n",
       "      <td>0.567547</td>\n",
       "      <td>0.105923</td>\n",
       "      <td>-0.592596</td>\n",
       "      <td>0.684124</td>\n",
       "      <td>0.820499</td>\n",
       "      <td>0.098709</td>\n",
       "      <td>0.229157</td>\n",
       "      <td>0.359995</td>\n",
       "    </tr>\n",
       "    <tr>\n",
       "      <th>2</th>\n",
       "      <td>0.440093</td>\n",
       "      <td>0.513839</td>\n",
       "      <td>-0.109937</td>\n",
       "      <td>0.106237</td>\n",
       "      <td>-0.455019</td>\n",
       "      <td>-0.468992</td>\n",
       "      <td>1.269844</td>\n",
       "      <td>2.662996</td>\n",
       "      <td>-0.915619</td>\n",
       "      <td>-0.678664</td>\n",
       "      <td>-0.478306</td>\n",
       "      <td>-0.111498</td>\n",
       "      <td>0.821271</td>\n",
       "      <td>-0.386245</td>\n",
       "      <td>-0.091135</td>\n",
       "      <td>-0.528346</td>\n",
       "      <td>0.359995</td>\n",
       "    </tr>\n",
       "    <tr>\n",
       "      <th>3</th>\n",
       "      <td>0.042775</td>\n",
       "      <td>-1.089371</td>\n",
       "      <td>0.228579</td>\n",
       "      <td>0.541981</td>\n",
       "      <td>-0.455019</td>\n",
       "      <td>-0.371182</td>\n",
       "      <td>-1.013812</td>\n",
       "      <td>-0.402863</td>\n",
       "      <td>-0.915619</td>\n",
       "      <td>-0.263262</td>\n",
       "      <td>-0.332249</td>\n",
       "      <td>-0.552505</td>\n",
       "      <td>0.821271</td>\n",
       "      <td>-0.601897</td>\n",
       "      <td>-0.358710</td>\n",
       "      <td>-0.528346</td>\n",
       "      <td>0.359995</td>\n",
       "    </tr>\n",
       "    <tr>\n",
       "      <th>4</th>\n",
       "      <td>-0.364364</td>\n",
       "      <td>0.513839</td>\n",
       "      <td>-0.463071</td>\n",
       "      <td>-0.348321</td>\n",
       "      <td>-0.455019</td>\n",
       "      <td>-0.468992</td>\n",
       "      <td>-1.013812</td>\n",
       "      <td>-0.402863</td>\n",
       "      <td>-0.915619</td>\n",
       "      <td>-0.678664</td>\n",
       "      <td>-0.478306</td>\n",
       "      <td>-0.552505</td>\n",
       "      <td>-0.906781</td>\n",
       "      <td>-0.366739</td>\n",
       "      <td>-0.254292</td>\n",
       "      <td>-0.528346</td>\n",
       "      <td>0.359995</td>\n",
       "    </tr>\n",
       "  </tbody>\n",
       "</table>\n",
       "</div>"
      ],
      "text/plain": [
       "         0         1         2         3         4         5         6   \\\n",
       "0 -0.736905 -0.287766 -0.426040 -0.357926 -0.349910 -0.468992 -0.806206   \n",
       "1  0.779306  0.113037 -0.470533 -0.357926 -0.455019  2.593303 -1.221417   \n",
       "2  0.440093  0.513839 -0.109937  0.106237 -0.455019 -0.468992  1.269844   \n",
       "3  0.042775 -1.089371  0.228579  0.541981 -0.455019 -0.371182 -1.013812   \n",
       "4 -0.364364  0.513839 -0.463071 -0.348321 -0.455019 -0.468992 -1.013812   \n",
       "\n",
       "         7         8         9         10        11        12        13  \\\n",
       "0 -0.681576 -0.705852 -0.678664 -0.478306 -0.512413 -0.961640 -0.531938   \n",
       "1 -0.681576 -0.915619  0.567547  0.105923 -0.592596  0.684124  0.820499   \n",
       "2  2.662996 -0.915619 -0.678664 -0.478306 -0.111498  0.821271 -0.386245   \n",
       "3 -0.402863 -0.915619 -0.263262 -0.332249 -0.552505  0.821271 -0.601897   \n",
       "4 -0.402863 -0.915619 -0.678664 -0.478306 -0.552505 -0.906781 -0.366739   \n",
       "\n",
       "         14        15        16  \n",
       "0 -0.299201 -0.528346  0.359995  \n",
       "1  0.098709  0.229157  0.359995  \n",
       "2 -0.091135 -0.528346  0.359995  \n",
       "3 -0.358710 -0.528346  0.359995  \n",
       "4 -0.254292 -0.528346  0.359995  "
      ]
     },
     "execution_count": 28,
     "metadata": {},
     "output_type": "execute_result"
    }
   ],
   "source": [
    "sf = pd.DataFrame(scaled_features)\n",
    "sf.head()"
   ]
  },
  {
   "cell_type": "code",
   "execution_count": 29,
   "metadata": {},
   "outputs": [
    {
     "data": {
      "text/html": [
       "<div>\n",
       "<style scoped>\n",
       "    .dataframe tbody tr th:only-of-type {\n",
       "        vertical-align: middle;\n",
       "    }\n",
       "\n",
       "    .dataframe tbody tr th {\n",
       "        vertical-align: top;\n",
       "    }\n",
       "\n",
       "    .dataframe thead th {\n",
       "        text-align: right;\n",
       "    }\n",
       "</style>\n",
       "<table border=\"1\" class=\"dataframe\">\n",
       "  <thead>\n",
       "    <tr style=\"text-align: right;\">\n",
       "      <th></th>\n",
       "      <th>PC1</th>\n",
       "      <th>PC2</th>\n",
       "      <th>PC3</th>\n",
       "      <th>PC4</th>\n",
       "      <th>PC5</th>\n",
       "      <th>PC6</th>\n",
       "      <th>PC7</th>\n",
       "      <th>PC8</th>\n",
       "    </tr>\n",
       "  </thead>\n",
       "  <tbody>\n",
       "    <tr>\n",
       "      <th>0</th>\n",
       "      <td>-1.686520</td>\n",
       "      <td>-1.088974</td>\n",
       "      <td>0.459314</td>\n",
       "      <td>0.697222</td>\n",
       "      <td>0.064202</td>\n",
       "      <td>0.082937</td>\n",
       "      <td>0.822029</td>\n",
       "      <td>-0.057782</td>\n",
       "    </tr>\n",
       "    <tr>\n",
       "      <th>1</th>\n",
       "      <td>-1.150334</td>\n",
       "      <td>2.487790</td>\n",
       "      <td>0.622042</td>\n",
       "      <td>-0.097306</td>\n",
       "      <td>0.713320</td>\n",
       "      <td>-1.065487</td>\n",
       "      <td>-0.344879</td>\n",
       "      <td>0.126617</td>\n",
       "    </tr>\n",
       "    <tr>\n",
       "      <th>2</th>\n",
       "      <td>0.961781</td>\n",
       "      <td>-0.393432</td>\n",
       "      <td>0.039577</td>\n",
       "      <td>1.276283</td>\n",
       "      <td>-2.107230</td>\n",
       "      <td>-0.412936</td>\n",
       "      <td>-1.592978</td>\n",
       "      <td>-0.094950</td>\n",
       "    </tr>\n",
       "    <tr>\n",
       "      <th>3</th>\n",
       "      <td>-0.913554</td>\n",
       "      <td>-0.036995</td>\n",
       "      <td>1.533938</td>\n",
       "      <td>1.058203</td>\n",
       "      <td>0.214211</td>\n",
       "      <td>-0.196015</td>\n",
       "      <td>-0.224845</td>\n",
       "      <td>-0.775408</td>\n",
       "    </tr>\n",
       "    <tr>\n",
       "      <th>4</th>\n",
       "      <td>-1.600294</td>\n",
       "      <td>-0.699565</td>\n",
       "      <td>0.295257</td>\n",
       "      <td>1.045982</td>\n",
       "      <td>-0.426078</td>\n",
       "      <td>0.077209</td>\n",
       "      <td>0.706174</td>\n",
       "      <td>0.184979</td>\n",
       "    </tr>\n",
       "  </tbody>\n",
       "</table>\n",
       "</div>"
      ],
      "text/plain": [
       "        PC1       PC2       PC3       PC4       PC5       PC6       PC7  \\\n",
       "0 -1.686520 -1.088974  0.459314  0.697222  0.064202  0.082937  0.822029   \n",
       "1 -1.150334  2.487790  0.622042 -0.097306  0.713320 -1.065487 -0.344879   \n",
       "2  0.961781 -0.393432  0.039577  1.276283 -2.107230 -0.412936 -1.592978   \n",
       "3 -0.913554 -0.036995  1.533938  1.058203  0.214211 -0.196015 -0.224845   \n",
       "4 -1.600294 -0.699565  0.295257  1.045982 -0.426078  0.077209  0.706174   \n",
       "\n",
       "        PC8  \n",
       "0 -0.057782  \n",
       "1  0.126617  \n",
       "2 -0.094950  \n",
       "3 -0.775408  \n",
       "4  0.184979  "
      ]
     },
     "execution_count": 29,
     "metadata": {},
     "output_type": "execute_result"
    }
   ],
   "source": [
    "pca_8_df.head()"
   ]
  },
  {
   "cell_type": "code",
   "execution_count": 30,
   "metadata": {},
   "outputs": [
    {
     "name": "stdout",
     "output_type": "stream",
     "text": [
      "[[-1.20304651 -0.37983331  0.44043885 -1.59162028 -0.04858207  2.19637976\n",
      "  -0.93914486 -0.23032472]\n",
      " [ 3.89670828 -0.17067983  0.10250328  0.11004678 -0.29799718 -0.01038735\n",
      "  -0.16625846 -0.04330724]\n",
      " [-0.65308492  3.17831378 -0.30435936 -0.21805895  0.05215121 -0.35153381\n",
      "  -0.10423586  0.06936239]\n",
      " [-0.53432264 -0.70884318 -0.00447805  0.24082609  0.05889071 -0.19992222\n",
      "   0.18682489  0.02258413]]\n",
      "[3 2 3 ... 0 0 0]\n"
     ]
    }
   ],
   "source": [
    "from sklearn.cluster import KMeans\n",
    "kmeans = KMeans (n_clusters = 4)\n",
    "kmeans = kmeans.fit (pca_8_df)\n",
    "\n",
    "centroids = kmeans.cluster_centers_\n",
    "print (centroids)\n",
    "\n",
    "clusters = kmeans.labels_\n",
    "print (clusters)"
   ]
  },
  {
   "cell_type": "code",
   "execution_count": 32,
   "metadata": {},
   "outputs": [
    {
     "data": {
      "text/html": [
       "<div>\n",
       "<style scoped>\n",
       "    .dataframe tbody tr th:only-of-type {\n",
       "        vertical-align: middle;\n",
       "    }\n",
       "\n",
       "    .dataframe tbody tr th {\n",
       "        vertical-align: top;\n",
       "    }\n",
       "\n",
       "    .dataframe thead th {\n",
       "        text-align: right;\n",
       "    }\n",
       "</style>\n",
       "<table border=\"1\" class=\"dataframe\">\n",
       "  <thead>\n",
       "    <tr style=\"text-align: right;\">\n",
       "      <th></th>\n",
       "      <th>PC1</th>\n",
       "      <th>PC2</th>\n",
       "      <th>PC3</th>\n",
       "      <th>PC4</th>\n",
       "      <th>PC5</th>\n",
       "      <th>PC6</th>\n",
       "      <th>PC7</th>\n",
       "      <th>PC8</th>\n",
       "      <th>Clusters</th>\n",
       "    </tr>\n",
       "  </thead>\n",
       "  <tbody>\n",
       "    <tr>\n",
       "      <th>0</th>\n",
       "      <td>-1.686520</td>\n",
       "      <td>-1.088974</td>\n",
       "      <td>0.459314</td>\n",
       "      <td>0.697222</td>\n",
       "      <td>0.064202</td>\n",
       "      <td>0.082937</td>\n",
       "      <td>0.822029</td>\n",
       "      <td>-0.057782</td>\n",
       "      <td>3</td>\n",
       "    </tr>\n",
       "    <tr>\n",
       "      <th>1</th>\n",
       "      <td>-1.150334</td>\n",
       "      <td>2.487790</td>\n",
       "      <td>0.622042</td>\n",
       "      <td>-0.097306</td>\n",
       "      <td>0.713320</td>\n",
       "      <td>-1.065487</td>\n",
       "      <td>-0.344879</td>\n",
       "      <td>0.126617</td>\n",
       "      <td>2</td>\n",
       "    </tr>\n",
       "    <tr>\n",
       "      <th>2</th>\n",
       "      <td>0.961781</td>\n",
       "      <td>-0.393432</td>\n",
       "      <td>0.039577</td>\n",
       "      <td>1.276283</td>\n",
       "      <td>-2.107230</td>\n",
       "      <td>-0.412936</td>\n",
       "      <td>-1.592978</td>\n",
       "      <td>-0.094950</td>\n",
       "      <td>3</td>\n",
       "    </tr>\n",
       "    <tr>\n",
       "      <th>3</th>\n",
       "      <td>-0.913554</td>\n",
       "      <td>-0.036995</td>\n",
       "      <td>1.533938</td>\n",
       "      <td>1.058203</td>\n",
       "      <td>0.214211</td>\n",
       "      <td>-0.196015</td>\n",
       "      <td>-0.224845</td>\n",
       "      <td>-0.775408</td>\n",
       "      <td>3</td>\n",
       "    </tr>\n",
       "    <tr>\n",
       "      <th>4</th>\n",
       "      <td>-1.600294</td>\n",
       "      <td>-0.699565</td>\n",
       "      <td>0.295257</td>\n",
       "      <td>1.045982</td>\n",
       "      <td>-0.426078</td>\n",
       "      <td>0.077209</td>\n",
       "      <td>0.706174</td>\n",
       "      <td>0.184979</td>\n",
       "      <td>3</td>\n",
       "    </tr>\n",
       "    <tr>\n",
       "      <th>...</th>\n",
       "      <td>...</td>\n",
       "      <td>...</td>\n",
       "      <td>...</td>\n",
       "      <td>...</td>\n",
       "      <td>...</td>\n",
       "      <td>...</td>\n",
       "      <td>...</td>\n",
       "      <td>...</td>\n",
       "      <td>...</td>\n",
       "    </tr>\n",
       "    <tr>\n",
       "      <th>8871</th>\n",
       "      <td>-1.128798</td>\n",
       "      <td>-0.870673</td>\n",
       "      <td>1.274826</td>\n",
       "      <td>-1.028105</td>\n",
       "      <td>-0.863815</td>\n",
       "      <td>3.285747</td>\n",
       "      <td>-1.732614</td>\n",
       "      <td>-0.572135</td>\n",
       "      <td>0</td>\n",
       "    </tr>\n",
       "    <tr>\n",
       "      <th>8872</th>\n",
       "      <td>-0.357144</td>\n",
       "      <td>-2.022940</td>\n",
       "      <td>-0.903782</td>\n",
       "      <td>-2.772226</td>\n",
       "      <td>0.019370</td>\n",
       "      <td>2.684563</td>\n",
       "      <td>-1.538019</td>\n",
       "      <td>0.196791</td>\n",
       "      <td>0</td>\n",
       "    </tr>\n",
       "    <tr>\n",
       "      <th>8873</th>\n",
       "      <td>-0.927315</td>\n",
       "      <td>-1.820645</td>\n",
       "      <td>-0.383916</td>\n",
       "      <td>-2.321573</td>\n",
       "      <td>0.116568</td>\n",
       "      <td>2.992822</td>\n",
       "      <td>-1.405571</td>\n",
       "      <td>-0.334831</td>\n",
       "      <td>0</td>\n",
       "    </tr>\n",
       "    <tr>\n",
       "      <th>8874</th>\n",
       "      <td>-2.343425</td>\n",
       "      <td>-0.678619</td>\n",
       "      <td>1.033559</td>\n",
       "      <td>-1.812556</td>\n",
       "      <td>-0.181767</td>\n",
       "      <td>3.194405</td>\n",
       "      <td>-0.957038</td>\n",
       "      <td>0.131492</td>\n",
       "      <td>0</td>\n",
       "    </tr>\n",
       "    <tr>\n",
       "      <th>8875</th>\n",
       "      <td>-0.573038</td>\n",
       "      <td>-0.421659</td>\n",
       "      <td>1.103764</td>\n",
       "      <td>-1.897345</td>\n",
       "      <td>-1.588495</td>\n",
       "      <td>3.613670</td>\n",
       "      <td>-1.481022</td>\n",
       "      <td>-0.307492</td>\n",
       "      <td>0</td>\n",
       "    </tr>\n",
       "  </tbody>\n",
       "</table>\n",
       "<p>8876 rows × 9 columns</p>\n",
       "</div>"
      ],
      "text/plain": [
       "           PC1       PC2       PC3       PC4       PC5       PC6       PC7  \\\n",
       "0    -1.686520 -1.088974  0.459314  0.697222  0.064202  0.082937  0.822029   \n",
       "1    -1.150334  2.487790  0.622042 -0.097306  0.713320 -1.065487 -0.344879   \n",
       "2     0.961781 -0.393432  0.039577  1.276283 -2.107230 -0.412936 -1.592978   \n",
       "3    -0.913554 -0.036995  1.533938  1.058203  0.214211 -0.196015 -0.224845   \n",
       "4    -1.600294 -0.699565  0.295257  1.045982 -0.426078  0.077209  0.706174   \n",
       "...        ...       ...       ...       ...       ...       ...       ...   \n",
       "8871 -1.128798 -0.870673  1.274826 -1.028105 -0.863815  3.285747 -1.732614   \n",
       "8872 -0.357144 -2.022940 -0.903782 -2.772226  0.019370  2.684563 -1.538019   \n",
       "8873 -0.927315 -1.820645 -0.383916 -2.321573  0.116568  2.992822 -1.405571   \n",
       "8874 -2.343425 -0.678619  1.033559 -1.812556 -0.181767  3.194405 -0.957038   \n",
       "8875 -0.573038 -0.421659  1.103764 -1.897345 -1.588495  3.613670 -1.481022   \n",
       "\n",
       "           PC8  Clusters  \n",
       "0    -0.057782         3  \n",
       "1     0.126617         2  \n",
       "2    -0.094950         3  \n",
       "3    -0.775408         3  \n",
       "4     0.184979         3  \n",
       "...        ...       ...  \n",
       "8871 -0.572135         0  \n",
       "8872  0.196791         0  \n",
       "8873 -0.334831         0  \n",
       "8874  0.131492         0  \n",
       "8875 -0.307492         0  \n",
       "\n",
       "[8876 rows x 9 columns]"
      ]
     },
     "execution_count": 32,
     "metadata": {},
     "output_type": "execute_result"
    }
   ],
   "source": [
    "pca_8_df_with_clusters = pca_8_df.copy()\n",
    "pca_8_df_with_clusters['Clusters'] = kmeans.labels_\n",
    "pca_8_df_with_clusters"
   ]
  },
  {
   "cell_type": "code",
   "execution_count": 33,
   "metadata": {},
   "outputs": [
    {
     "data": {
      "text/plain": [
       "<AxesSubplot:xlabel='Clusters', ylabel='count'>"
      ]
     },
     "execution_count": 33,
     "metadata": {},
     "output_type": "execute_result"
    },
    {
     "data": {
      "image/png": "[encoded data removed]",
      "text/plain": [
       "<Figure size 360x360 with 1 Axes>"
      ]
     },
     "metadata": {
      "needs_background": "light"
     },
     "output_type": "display_data"
    }
   ],
   "source": [
    "plt.figure (figsize = (5 , 5))\n",
    "sns.countplot (x=pca_8_df_with_clusters[\"Clusters\"])"
   ]
  },
  {
   "cell_type": "code",
   "execution_count": 34,
   "metadata": {},
   "outputs": [],
   "source": [
    "pca_8_df_with_clusters.to_csv('../Data/PCA_Clusters.csv')"
   ]
  },
  {
   "cell_type": "code",
   "execution_count": null,
   "metadata": {},
   "outputs": [],
   "source": []
  }
 ],
 "metadata": {
  "kernelspec": {
   "display_name": "Python 3",
   "language": "python",
   "name": "python3"
  },
  "language_info": {
   "codemirror_mode": {
    "name": "ipython",
    "version": 3
   },
   "file_extension": ".py",
   "mimetype": "text/x-python",
   "name": "python",
   "nbconvert_exporter": "python",
   "pygments_lexer": "ipython3",
   "version": "3.10.12"
  }
 },
 "nbformat": 4,
 "nbformat_minor": 2
}
